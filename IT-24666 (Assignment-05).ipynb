{
 "cells": [
  {
   "cell_type": "code",
   "execution_count": null,
   "id": "006b1da6",
   "metadata": {},
   "outputs": [],
   "source": [
    "import csv   # csv ফাইল পড়া ও লেখার জন্য মডিউল ইমপোর্ট\n",
    "\n",
    "# কোনো সংখ্যা মৌলিক (prime) কিনা যাচাই করার ফাংশন\n",
    "def is_prime(n):\n",
    "    if n < 2:          # ২ এর কম হলে মৌলিক নয়\n",
    "        return False\n",
    "    # ২ থেকে √n পর্যন্ত লুপ চালিয়ে দেখা হচ্ছে n অন্য কোনো সংখ্যা দিয়ে বিভাজ্য কিনা\n",
    "    for i in range(2, int(n ** 0.5) + 1):\n",
    "        if n % i == 0:  # যদি ভাগশেষ ০ হয়, তাহলে মৌলিক নয়\n",
    "            return False\n",
    "    return True         # উপরের শর্তে না পড়লে সেটি মৌলিক সংখ্যা\n",
    "\n",
    "# input.csv ফাইল থেকে শুরু ও শেষ সংখ্যা পড়া হচ্ছে\n",
    "with open('input.csv', 'r') as infile:\n",
    "    reader = csv.DictReader(infile)  # হেডার অনুযায়ী ডেটা পড়বে\n",
    "    row = next(reader)               # প্রথম লাইনটি নেওয়া হচ্ছে\n",
    "    start = int(row['start'])        # start মানটিকে integer এ রূপান্তর\n",
    "    end = int(row['end'])            # end মানটিকে integer এ রূপান্তর\n",
    "\n",
    "# start থেকে end পর্যন্ত যেসব সংখ্যা prime, সেগুলো বের করা হচ্ছে\n",
    "primes = [n for n in range(start, end + 1) if is_prime(n)]\n",
    "\n",
    "# মোট কয়টা prime সংখ্যা পাওয়া গেছে তা গণনা করা\n",
    "prime_count = len(primes)\n",
    "\n",
    "# ফলাফল output.csv ফাইলে লেখা\n",
    "with open('output.csv', 'w', newline='') as outfile:\n",
    "    writer = csv.writer(outfile)\n",
    "    writer.writerow(['prime_count', 'prime_numbers'])\n",
    "    writer.writerow([prime_count, ', '.join(map(str, primes))])\n",
    "\n",
    "# টার্মিনালে ফলাফল প্রদর্শন\n",
    "print(f\"{start} থেকে {end} পর্যন্ত মোট {prime_count}টি মৌলিক সংখ্যা পাওয়া গেছে।\")\n"
   ]
  }
 ],
 "metadata": {},
 "nbformat": 4,
 "nbformat_minor": 5
}